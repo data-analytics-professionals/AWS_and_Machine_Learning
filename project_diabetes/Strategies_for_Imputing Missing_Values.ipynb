{
 "cells": [
  {
   "cell_type": "markdown",
   "metadata": {},
   "source": [
    "<h1> AWS and Machine Learning </h1>"
   ]
  },
  {
   "cell_type": "markdown",
   "metadata": {},
   "source": [
    "> Data Cleaning - Strategies for Missing Values - Mean Imputation"
   ]
  },
  {
   "cell_type": "markdown",
   "metadata": {},
   "source": [
    "GitHub Link: https://github.com/data-analytics-professionals"
   ]
  },
  {
   "cell_type": "code",
   "execution_count": null,
   "metadata": {},
   "outputs": [],
   "source": [
    "# Set the Jyputer Notebook, width: 100% \n",
    "from IPython.core.display import display, HTML\n",
    "display(HTML(\"<style>.container { width:100% !important; }</style>\"))"
   ]
  },
  {
   "cell_type": "code",
   "execution_count": null,
   "metadata": {},
   "outputs": [],
   "source": [
    "from IPython.display import Image\n",
    "cover = Image(filename=\"../project_diabetes/photos/Strategies for Missing Values – Impute, Compare and Extensively Analyse.png\")\n",
    "display(cover)"
   ]
  },
  {
   "cell_type": "markdown",
   "metadata": {},
   "source": [
    "> Data Acquisition "
   ]
  },
  {
   "cell_type": "code",
   "execution_count": null,
   "metadata": {},
   "outputs": [],
   "source": [
    "# Load the libraries (numpy, pandas) for data analysis and data wrangling\n",
    "import numpy as np\n",
    "import pandas as pd\n",
    "\n",
    "# Read the dataset 'diabetes.csv'\n",
    "df = pd.read_csv('data/pima_indians_diabetes.xls')"
   ]
  },
  {
   "cell_type": "code",
   "execution_count": null,
   "metadata": {},
   "outputs": [],
   "source": [
    "# Sample function return a random sample of n items from an axis of object.\n",
    "df.sample(n=10)"
   ]
  },
  {
   "cell_type": "code",
   "execution_count": null,
   "metadata": {},
   "outputs": [],
   "source": [
    "# info function prints a concise summary of a DataFrame including the index dtype and column dtypes, non-null values and memory usage.\n",
    "df.info()"
   ]
  },
  {
   "cell_type": "code",
   "execution_count": null,
   "metadata": {},
   "outputs": [],
   "source": [
    "# Print the description of the data\n",
    "df.describe()"
   ]
  },
  {
   "cell_type": "markdown",
   "metadata": {},
   "source": [
    "> Analyzing Missingness Percentage"
   ]
  },
  {
   "cell_type": "code",
   "execution_count": null,
   "metadata": {},
   "outputs": [],
   "source": [
    "# Create a nullity DataFrame df_nullity\n",
    "df_nullity = df.isnull()"
   ]
  },
  {
   "cell_type": "code",
   "execution_count": null,
   "metadata": {},
   "outputs": [],
   "source": [
    "# print nullity df_nullity\n",
    "df_nullity.head(n=10)"
   ]
  },
  {
   "cell_type": "code",
   "execution_count": null,
   "metadata": {},
   "outputs": [],
   "source": [
    "# Calculate total of missing values\n",
    "print('Total Missing Values:\\n', df_nullity.sum())"
   ]
  },
  {
   "cell_type": "code",
   "execution_count": null,
   "metadata": {},
   "outputs": [],
   "source": [
    "# Calculate percentage of missing values\n",
    "df_nullity_percent =  df_nullity.mean() * 100\n",
    "print('Percentage of Missing Values:\\n', df_nullity_percent)"
   ]
  },
  {
   "cell_type": "markdown",
   "metadata": {},
   "source": [
    "> Visualize Missingness"
   ]
  },
  {
   "cell_type": "code",
   "execution_count": null,
   "metadata": {},
   "outputs": [],
   "source": [
    "# Import missingno as msno\n",
    "import missingno as msno\n",
    "import matplotlib.pyplot as plt\n",
    "%matplotlib inline\n",
    "\n",
    "print(plt.style.available)\n"
   ]
  },
  {
   "cell_type": "code",
   "execution_count": null,
   "metadata": {},
   "outputs": [],
   "source": [
    "# Set Solarize_Light2 style\n",
    "plt.style.use('Solarize_Light2')"
   ]
  },
  {
   "cell_type": "code",
   "execution_count": null,
   "metadata": {},
   "outputs": [],
   "source": [
    "# Plot amount of missingness in the DataFrame\n",
    "msno.bar(\n",
    "    df,\n",
    "    figsize=(24, 10),\n",
    "    fontsize=16,\n",
    "    labels=None,\n",
    "    log=False,\n",
    "    color='limegreen',\n",
    "    inline=False,\n",
    "    filter=None,\n",
    "    n=0,\n",
    "    p=0,\n",
    "    sort=None,\n",
    "    ax=None\n",
    ")\n",
    "\n",
    "plt.show()\n"
   ]
  },
  {
   "cell_type": "markdown",
   "metadata": {},
   "source": [
    "> Plot the nullity matrix of df"
   ]
  },
  {
   "cell_type": "code",
   "execution_count": null,
   "metadata": {},
   "outputs": [],
   "source": [
    "# Plot nullity matrix of df\n",
    "msno.matrix(\n",
    "    df=df,\n",
    "    filter=None,\n",
    "    n=0,\n",
    "    p=0,\n",
    "    sort=None,\n",
    "    figsize=(25, 10),\n",
    "    width_ratios=(15, 1),\n",
    "    color=(1,0,0),\n",
    "    fontsize=16,\n",
    "    labels=None,\n",
    "    sparkline=True,\n",
    "    inline=False,\n",
    "    freq=None,\n",
    "    ax=None,\n",
    ")\n",
    "\n",
    "plt.show()\n"
   ]
  },
  {
   "cell_type": "code",
   "execution_count": null,
   "metadata": {},
   "outputs": [],
   "source": [
    "# Sort diabetes dataframe df on 'Serum_Insulin'\n",
    "sorted_values = df.sort_values(by=['Serum_Insulin'])\n",
    "\n",
    "# Visualize the missingness summary of sorted\n",
    "msno.matrix(\n",
    "    sorted_values,\n",
    "    filter=None,\n",
    "    n=0,\n",
    "    p=0,\n",
    "    sort=None,\n",
    "    figsize=(25, 10),\n",
    "    width_ratios=(15, 1),\n",
    "    color=(0,1,0),\n",
    "    fontsize=16,\n",
    "    labels=None,\n",
    "    sparkline=True,\n",
    "    inline=False,\n",
    "    freq=None,\n",
    "    ax=None,\n",
    ")\n",
    "\n",
    "plt.show()"
   ]
  },
  {
   "cell_type": "markdown",
   "metadata": {},
   "source": [
    "> Correlations Between Missing Data (Missingness)\n",
    "\n",
    "> Remember we could find correlations between missing data and it helps us to gain a deeper understanding of the type of missing data.\n",
    "> It also provides suitable ways in which the missing values can be addressed.\n"
   ]
  },
  {
   "cell_type": "code",
   "execution_count": null,
   "metadata": {},
   "outputs": [],
   "source": [
    "# Plot missingness heatmap of diabetes DataFrame df\n",
    "msno.heatmap(\n",
    "    df,\n",
    "    inline=False,\n",
    "    filter=None,\n",
    "    n=0,\n",
    "    p=0,\n",
    "    sort=None,\n",
    "    figsize=(20, 12),\n",
    "    fontsize=16,\n",
    "    labels=True,\n",
    "    cmap='gist_rainbow',\n",
    "    vmin=-1,\n",
    "    vmax=1,\n",
    "    cbar=True,\n",
    "    ax=None,\n",
    ")\n",
    "\n",
    "# Show plot\n",
    "plt.show()"
   ]
  },
  {
   "cell_type": "code",
   "execution_count": null,
   "metadata": {},
   "outputs": [],
   "source": [
    "# Plot missingness dendrogram of diabetes DataFrame df\n",
    "msno.dendrogram(\n",
    "    df,\n",
    "    method='average',\n",
    "    filter=None,\n",
    "    n=0,\n",
    "    p=0,\n",
    "    orientation=None,\n",
    "    figsize=None,\n",
    "    fontsize=16,\n",
    "    inline=False,\n",
    "    ax=None,\n",
    ")\n",
    "\n",
    "# Show plot\n",
    "plt.show()"
   ]
  },
  {
   "cell_type": "markdown",
   "metadata": {},
   "source": [
    "> More topics: \n",
    "    Writing useful functions"
   ]
  },
  {
   "cell_type": "code",
   "execution_count": null,
   "metadata": {},
   "outputs": [],
   "source": [
    "import numpy as np\n",
    "from numpy.random import rand\n",
    "\n",
    "# Write a function that automates creating dummy values for missing data\n",
    "def fill_dummy_values(df, scaling_factor=0.075):\n",
    "    df_dummy = df.copy(deep=True)\n",
    "    for col_name in df_dummy:\n",
    "        \n",
    "        # Get column\n",
    "        col = df_dummy[col_name]\n",
    "        col_null = col.isnull()  \n",
    "        # Calculate number of missing values in column \n",
    "        num_nulls = col_null.sum()\n",
    "        # Calculate column range\n",
    "        col_range = col.max() - col.min()\n",
    "        # Shift dummy values to -2 and -1 , Remember rand generates values between 0 and 1\n",
    "        dummy_values = (rand(num_nulls) - 2) \n",
    "        # Scale dummy variables by scaling_factor and shift them towards col.min\n",
    "        dummy_values = dummy_values * scaling_factor * col_range + col.min()\n",
    "        \n",
    "        # Return dummy values\n",
    "        col[col_null] = dummy_values\n",
    "    return df_dummy"
   ]
  },
  {
   "cell_type": "markdown",
   "metadata": {},
   "source": [
    "> Generate scatter plot with missingness"
   ]
  },
  {
   "cell_type": "code",
   "execution_count": null,
   "metadata": {},
   "outputs": [],
   "source": [
    "# Fill dummy values in diabetes_dummy\n",
    "diabetes_dummy = fill_dummy_values(df)\n",
    "\n",
    "# Sum the nullity of Serum_Insulin and BMI (for coloring)\n",
    "nullity_Serum_Insulin_BMI = df.Serum_Insulin.isnull() + df.BMI.isnull()\n",
    "\n",
    "# Create a scatter plot of Serum_Insulin and BMI \n",
    "diabetes_dummy.plot(\n",
    "    x='Serum_Insulin', \n",
    "    y='BMI', \n",
    "    kind='scatter', \n",
    "    alpha=0.5,\n",
    "    # Set color to nullity of BMI and Skin_Fold\n",
    "    c=nullity_Serum_Insulin_BMI, \n",
    "    colormap='gist_rainbow',\n",
    "    title='Serum Insulin Vs BMI'    \n",
    ")\n",
    "\n",
    "plt.show()"
   ]
  },
  {
   "cell_type": "markdown",
   "metadata": {},
   "source": [
    "> Excellent! Now from above plot, lets make sure that we take a close look at how the missing values of Serum Insulin and BMI interact with eachther. We dont see any specfic corelation between these two variables that is of missingness of Skin_Insulin and BMI."
   ]
  },
  {
   "cell_type": "markdown",
   "metadata": {},
   "source": [
    "> Let's find interaction between Serum_Insulin and BMI"
   ]
  },
  {
   "cell_type": "code",
   "execution_count": null,
   "metadata": {},
   "outputs": [],
   "source": [
    "# Sum the nullity of Skin_Fold and BMI\n",
    "nullity_Skin_Fold_BMI = df.Skin_Fold.isnull() + df.BMI.isnull()\n",
    "\n",
    "# Create a scatter plot of Skin Fold and BMI \n",
    "diabetes_dummy.plot(\n",
    "    x='Skin_Fold', \n",
    "    y='BMI', \n",
    "    kind='scatter', \n",
    "    alpha=0.5,                \n",
    "    \n",
    "    # Set color to nullity of BMI and Skin_Fold\n",
    "    c=nullity_Skin_Fold_BMI,\n",
    "    colormap='gist_rainbow',\n",
    "    \n",
    "    # Set title\n",
    "    title='Skin_Fold Vs BMI'\n",
    ")\n",
    "\n",
    "plt.show()"
   ]
  },
  {
   "cell_type": "markdown",
   "metadata": {},
   "source": [
    "Remember: We have already discussed and performed deletions tasks\n",
    "    Just to recall deletions are of two types \n",
    "    1. Pairwise deletion\n",
    "    2. Listwise deletion (Complete Case Analysis)\n",
    "    Note: used when the values are MCAR"
   ]
  },
  {
   "cell_type": "markdown",
   "metadata": {},
   "source": [
    "\"\"\"\n",
    "\n",
    "Listwise and pairwise deletion are the most common techniques to handling missing data.  \n",
    "It is important to understand that in the vast majority of cases, an important assumption to using either of these techniques is that our data is missing completely \n",
    "at random (MCAR).\n",
    "\n",
    "In other words, the analysts or researchers needs to support that the probability of missing data on their dependent variable is unrelated to other independent variables \n",
    "as well as the dependent variable itself.\n",
    "\n",
    "\"\"\""
   ]
  },
  {
   "cell_type": "markdown",
   "metadata": {},
   "source": [
    "> Mean Imputations"
   ]
  },
  {
   "cell_type": "code",
   "execution_count": null,
   "metadata": {},
   "outputs": [],
   "source": [
    "# Make a copy of diabetes\n",
    "diabetes_mean = df.copy(deep=True)\n",
    "\n",
    "from sklearn.impute import SimpleImputer\n",
    "\n",
    "# Create mean imputer object\n",
    "mean_imputer = SimpleImputer(strategy='mean')\n",
    "\n",
    "# Impute mean values in the DataFrame diabetes_mean\n",
    "diabetes_mean.iloc[:, :] = mean_imputer.fit_transform(diabetes_mean)"
   ]
  },
  {
   "cell_type": "markdown",
   "metadata": {},
   "source": [
    "> Median Imputations"
   ]
  },
  {
   "cell_type": "code",
   "execution_count": null,
   "metadata": {},
   "outputs": [],
   "source": [
    "# Make a copy of diabetes\n",
    "diabetes_median = df.copy(deep=True)\n",
    "\n",
    "# Create median imputer object\n",
    "median_imputer = SimpleImputer(strategy='median')\n",
    "\n",
    "# Impute median values in the DataFrame diabetes_median\n",
    "diabetes_median.iloc[:, :] = median_imputer.fit_transform(diabetes_median)"
   ]
  },
  {
   "cell_type": "markdown",
   "metadata": {},
   "source": [
    "> Mode Imputation\n"
   ]
  },
  {
   "cell_type": "code",
   "execution_count": null,
   "metadata": {},
   "outputs": [],
   "source": [
    "# Make a copy of diabetes\n",
    "diabetes_mode = df.copy(deep=True)\n",
    "\n",
    "# Create mode imputer object\n",
    "mode_imputer = SimpleImputer(strategy='most_frequent')\n",
    "\n",
    "# Impute mode values in the DataFrame diabetes_mode\n",
    "diabetes_mode.iloc[:, :] = mode_imputer.fit_transform(diabetes_mode)"
   ]
  },
  {
   "cell_type": "markdown",
   "metadata": {},
   "source": [
    ">Imputing a constant"
   ]
  },
  {
   "cell_type": "code",
   "execution_count": null,
   "metadata": {},
   "outputs": [],
   "source": [
    "# Make a copy of diabetes\n",
    "diabetes_constant = df.copy(deep=True)\n",
    "\n",
    "# Create comstant imputer object\n",
    "constant_imputer = SimpleImputer(strategy='constant', fill_value=0)\n",
    "\n",
    "# Impute missing values to 0 in diabetes_constant\n",
    "diabetes_constant.iloc[:, :] = constant_imputer.fit_transform(diabetes_constant)"
   ]
  },
  {
   "cell_type": "markdown",
   "metadata": {},
   "source": [
    ">Scatterplot of imputation"
   ]
  },
  {
   "cell_type": "code",
   "execution_count": null,
   "metadata": {},
   "outputs": [],
   "source": [
    "# Sum the nullity of Serum_Insulin and BMI (for coloring)\n",
    "nullity = df['Serum_Insulin'].isnull() + df['BMI'].isnull()\n",
    "\n",
    "# Create a scatter plot of Serum_Insulin and BMI from diabetes_mean \n",
    "diabetes_mean.plot(\n",
    "    x='Serum_Insulin', \n",
    "    y='BMI', \n",
    "    kind='scatter', \n",
    "    alpha=0.5,\n",
    "    c=nullity, \n",
    "    cmap='gist_rainbow',\n",
    "    title='Mean Imputation'\n",
    ")\n",
    "\n",
    "plt.show()"
   ]
  },
  {
   "cell_type": "markdown",
   "metadata": {},
   "source": [
    ">Comparision of Different Imputation Strategies and their Visual Analysis "
   ]
  },
  {
   "cell_type": "code",
   "execution_count": null,
   "metadata": {},
   "outputs": [],
   "source": [
    "# Set nrows and ncols to 2\n",
    "fig, axes = plt.subplots(nrows=2, ncols=2, figsize=(20,20))\n",
    "\n",
    "nullity = df['Serum_Insulin'].isnull() + df['BMI'].isnull()\n",
    "\n",
    "# Create a dictionary of imputations\n",
    "imputations = {\n",
    "    'Mean Imputation': diabetes_mean,\n",
    "    'Median Imputation': diabetes_median,\n",
    "    'Most Frequent Imputation': diabetes_mode,\n",
    "    'Constant Imputation' : diabetes_constant    \n",
    "}\n",
    "\n",
    "# Loop over flattened axes and imputations\n",
    "for ax, df_key in zip(axes.flatten(), imputations):\n",
    "    # Select and also set the title for a DataFrame\n",
    "    imputations[df_key].plot(\n",
    "        x='Serum_Insulin',\n",
    "        y='BMI',\n",
    "        kind='scatter',\n",
    "        alpha=0.5,\n",
    "        c=nullity,\n",
    "        cmap='gist_rainbow',\n",
    "        ax=ax,\n",
    "        colorbar=False,\n",
    "        title=df_key\n",
    "    )\n",
    "    "
   ]
  },
  {
   "cell_type": "markdown",
   "metadata": {},
   "source": [
    "> Summary:\n",
    "> Clear correlation between non-missing plotted features that are missed in our all imputation strategies and this creates a bias.\n",
    "> imputation strategies do preserve their basic statistical properties but don’t account for their correlations.\n",
    "   "
   ]
  },
  {
   "cell_type": "markdown",
   "metadata": {},
   "source": [
    "> To deal with this real world problem we need more robust imputation strategies and that we will learn in next lecture."
   ]
  }
 ],
 "metadata": {
  "kernelspec": {
   "display_name": "Python 3",
   "language": "python",
   "name": "python3"
  },
  "language_info": {
   "codemirror_mode": {
    "name": "ipython",
    "version": 3
   },
   "file_extension": ".py",
   "mimetype": "text/x-python",
   "name": "python",
   "nbconvert_exporter": "python",
   "pygments_lexer": "ipython3",
   "version": "3.6.5"
  }
 },
 "nbformat": 4,
 "nbformat_minor": 1
}
