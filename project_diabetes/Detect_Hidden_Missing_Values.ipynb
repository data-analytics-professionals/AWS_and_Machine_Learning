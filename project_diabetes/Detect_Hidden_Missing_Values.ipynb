{
 "cells": [
  {
   "cell_type": "markdown",
   "metadata": {},
   "source": [
    "<h1> AWS and Machine Learning </h1>"
   ]
  },
  {
   "cell_type": "markdown",
   "metadata": {},
   "source": [
    "> Data Cleaning - Strategies for Missing Values – Detect Hidden Missing Values and Convert into NULL Values and Analyse"
   ]
  },
  {
   "cell_type": "markdown",
   "metadata": {},
   "source": [
    "GitHub Link: https://github.com/data-analytics-professionals"
   ]
  },
  {
   "cell_type": "code",
   "execution_count": null,
   "metadata": {},
   "outputs": [],
   "source": [
    "# Set the Jyputer Notebook, width: 100% \n",
    "from IPython.core.display import display, HTML\n",
    "display(HTML(\"<style>.container { width:100% !important; }</style>\"))"
   ]
  },
  {
   "cell_type": "code",
   "execution_count": null,
   "metadata": {},
   "outputs": [],
   "source": [
    "from IPython.display import Image\n",
    "cover = Image(filename=\"../project_diabetes/photos/Detect Hidden Missing Values.png\")\n",
    "display(cover)"
   ]
  },
  {
   "cell_type": "markdown",
   "metadata": {},
   "source": [
    "> Data Acquisition "
   ]
  },
  {
   "cell_type": "code",
   "execution_count": null,
   "metadata": {},
   "outputs": [],
   "source": [
    "# Load the libraries (numpy, pandas) for data analysis and data wrangling\n",
    "import numpy as np\n",
    "import pandas as pd\n",
    "\n",
    "# Read the dataset 'diabetes.csv'\n",
    "df = pd.read_csv('data/diabetes.csv')"
   ]
  },
  {
   "cell_type": "code",
   "execution_count": null,
   "metadata": {},
   "outputs": [],
   "source": [
    "# Sample function return a random sample of n items from an axis of object.\n",
    "df.sample(n=10)"
   ]
  },
  {
   "cell_type": "code",
   "execution_count": null,
   "metadata": {},
   "outputs": [],
   "source": [
    "# info function prints a concise summary of a DataFrame including the index dtype and column dtypes, non-null values and memory usage.\n",
    "df.info()"
   ]
  },
  {
   "cell_type": "code",
   "execution_count": null,
   "metadata": {},
   "outputs": [],
   "source": [
    "# Print the description of the data\n",
    "df.describe()"
   ]
  },
  {
   "cell_type": "markdown",
   "metadata": {},
   "source": [
    "> Remember: BMI means body mass index\n",
    "\n",
    "> The body mass index (BMI) is a measure that uses your height and weight to work out if your weight is healthy. \n",
    "> The BMI calculation divides an adult's weight in kilograms by their height in metres squared. \n",
    "\n",
    "> For example, A BMI of 25 means 25kg/m2."
   ]
  },
  {
   "cell_type": "code",
   "execution_count": null,
   "metadata": {},
   "outputs": [],
   "source": [
    "# Store all rows of column 'bmi' in zero_bmi which are equal to 0 \n",
    "zero_bmi = df.bmi[df.bmi == 0]"
   ]
  },
  {
   "cell_type": "code",
   "execution_count": null,
   "metadata": {},
   "outputs": [],
   "source": [
    "# print zero_bmi\n",
    "zero_bmi"
   ]
  },
  {
   "cell_type": "markdown",
   "metadata": {},
   "source": [
    "> Replacing Hidden Missing Values"
   ]
  },
  {
   "cell_type": "code",
   "execution_count": null,
   "metadata": {},
   "outputs": [],
   "source": [
    "# Set the 0 values of column 'bmi' to np.nan\n",
    "df.bmi[df.bmi == 0] = np.nan"
   ]
  },
  {
   "cell_type": "code",
   "execution_count": null,
   "metadata": {},
   "outputs": [],
   "source": [
    "# Print the 'NaN' values in the column bmi\n",
    "print(df.bmi[np.isnan(df.bmi)])"
   ]
  },
  {
   "cell_type": "markdown",
   "metadata": {},
   "source": [
    "> Analyzing Missingness Percentage"
   ]
  },
  {
   "cell_type": "code",
   "execution_count": null,
   "metadata": {},
   "outputs": [],
   "source": [
    "# Create a nullity DataFrame df_nullity\n",
    "df_nullity = df.isnull()"
   ]
  },
  {
   "cell_type": "code",
   "execution_count": null,
   "metadata": {},
   "outputs": [],
   "source": [
    "# print nullity df_nullity\n",
    "df_nullity.head(n=10)"
   ]
  },
  {
   "cell_type": "code",
   "execution_count": null,
   "metadata": {},
   "outputs": [],
   "source": [
    "# Calculate total of missing values\n",
    "print('Total Missing Values:\\n', df_nullity.sum())"
   ]
  },
  {
   "cell_type": "code",
   "execution_count": null,
   "metadata": {},
   "outputs": [],
   "source": [
    "# Calculate percentage of missing values\n",
    "df_nullity_percent =  df_nullity.mean() * 100\n",
    "print('Percentage of Missing Values:\\n', df_nullity_percent)"
   ]
  },
  {
   "cell_type": "markdown",
   "metadata": {},
   "source": [
    "> Visualize Missingness"
   ]
  },
  {
   "cell_type": "code",
   "execution_count": null,
   "metadata": {},
   "outputs": [],
   "source": [
    "# Import missingno as msno\n",
    "import missingno as msno\n",
    "import matplotlib.pyplot as plt\n",
    "%matplotlib inline\n",
    "\n",
    "print(plt.style.available)\n"
   ]
  },
  {
   "cell_type": "code",
   "execution_count": null,
   "metadata": {},
   "outputs": [],
   "source": [
    "# Set Solarize_Light2 style\n",
    "plt.style.use('Solarize_Light2')"
   ]
  },
  {
   "cell_type": "code",
   "execution_count": null,
   "metadata": {},
   "outputs": [],
   "source": [
    "# Plot amount of missingness in the DataFrame\n",
    "msno.bar(\n",
    "    df,\n",
    "    figsize=(24, 10),\n",
    "    fontsize=16,\n",
    "    labels=None,\n",
    "    log=False,\n",
    "    color='limegreen',\n",
    "    inline=False,\n",
    "    filter=None,\n",
    "    n=0,\n",
    "    p=0,\n",
    "    sort=None,\n",
    "    ax=None\n",
    ")\n",
    "\n",
    "plt.show()\n"
   ]
  },
  {
   "cell_type": "markdown",
   "metadata": {},
   "source": [
    "> Plot the nullity matrix of df"
   ]
  },
  {
   "cell_type": "code",
   "execution_count": null,
   "metadata": {},
   "outputs": [],
   "source": [
    "# Plot nullity matrix of df\n",
    "msno.matrix(\n",
    "    df=df,\n",
    "    filter=None,\n",
    "    n=0,\n",
    "    p=0,\n",
    "    sort=None,\n",
    "    figsize=(25, 10),\n",
    "    width_ratios=(15, 1),\n",
    "    color=(0,1,0),\n",
    "    fontsize=16,\n",
    "    labels=None,\n",
    "    sparkline=True,\n",
    "    inline=False,\n",
    "    freq=None,\n",
    "    ax=None,\n",
    ")\n",
    "\n",
    "plt.show()\n"
   ]
  },
  {
   "cell_type": "code",
   "execution_count": null,
   "metadata": {},
   "outputs": [],
   "source": [
    "# Sort diabetes dataframe df on 'bmi'\n",
    "sorted_values = df.sort_values(by=['bmi'])\n",
    "\n",
    "# Visualize the missingness summary of sorted\n",
    "msno.matrix(\n",
    "    sorted_values,\n",
    "    filter=None,\n",
    "    n=0,\n",
    "    p=0,\n",
    "    sort=None,\n",
    "    figsize=(25, 10),\n",
    "    width_ratios=(15, 1),\n",
    "    color=(0,1,0),\n",
    "    fontsize=16,\n",
    "    labels=None,\n",
    "    sparkline=True,\n",
    "    inline=False,\n",
    "    freq=None,\n",
    "    ax=None,\n",
    ")\n",
    "\n",
    "plt.show()"
   ]
  },
  {
   "cell_type": "markdown",
   "metadata": {},
   "source": [
    "> Correlations Between Missing Data\n",
    "\n",
    "> Remember we could find correlations between missing data and it helps us to gain a deeper understanding of the type of missing data.\n",
    "> It also provides suitable ways in which the missing values can be addressed.\n"
   ]
  },
  {
   "cell_type": "code",
   "execution_count": null,
   "metadata": {},
   "outputs": [],
   "source": [
    "# Plot missingness heatmap of diabetes\n",
    "msno.heatmap(\n",
    "    df,\n",
    "    inline=False,\n",
    "    filter=None,\n",
    "    n=0,\n",
    "    p=0,\n",
    "    sort=None,\n",
    "    figsize=(20, 12),\n",
    "    fontsize=16,\n",
    "    labels=True,\n",
    "    cmap='RdBu',\n",
    "    vmin=-1,\n",
    "    vmax=1,\n",
    "    cbar=True,\n",
    "    ax=None,\n",
    ")\n",
    "\n",
    "# Show plot\n",
    "plt.show()"
   ]
  },
  {
   "cell_type": "code",
   "execution_count": null,
   "metadata": {},
   "outputs": [],
   "source": [
    "# Plot missingness dendrogram of diabetes\n",
    "msno.dendrogram(\n",
    "    df,\n",
    "    method='average',\n",
    "    filter=None,\n",
    "    n=0,\n",
    "    p=0,\n",
    "    orientation=None,\n",
    "    figsize=None,\n",
    "    fontsize=16,\n",
    "    inline=False,\n",
    "    ax=None,\n",
    ")\n",
    "\n",
    "# Show plot\n",
    "plt.show()"
   ]
  },
  {
   "cell_type": "markdown",
   "metadata": {},
   "source": [
    "> More topics: \n",
    "    Writing useful functions"
   ]
  },
  {
   "cell_type": "code",
   "execution_count": null,
   "metadata": {},
   "outputs": [],
   "source": [
    "import numpy as np\n",
    "from numpy.random import rand\n",
    "\n",
    "# Write a function that automates creating dummy values for missing data\n",
    "def fill_dummy_values(df, scaling_factor=0.075):\n",
    "    df_dummy = df.copy(deep=True)\n",
    "    for col_name in df_dummy:\n",
    "        col = df_dummy[col_name]\n",
    "        col_null = col.isnull()    \n",
    "        # Calculate number of missing values in column \n",
    "        num_nulls = col_null.sum()\n",
    "        # Calculate column range\n",
    "        col_range = col.max() - col.min()\n",
    "        # Scale the random values to scaling_factor times col_range\n",
    "        dummy_values = (rand(num_nulls) - 2) * scaling_factor * col_range + col.min()\n",
    "        col[col_null] = dummy_values\n",
    "    return df_dummy"
   ]
  },
  {
   "cell_type": "markdown",
   "metadata": {},
   "source": [
    "> Generate scatter plot with missingness - take a deep look at how the missing values of selected features interact"
   ]
  },
  {
   "cell_type": "code",
   "execution_count": null,
   "metadata": {},
   "outputs": [],
   "source": [
    "# Fill dummy values in diabetes_dummy\n",
    "diabetes_dummy = fill_dummy_values(df)\n",
    "\n",
    "# Sum the nullity of Skin_Fold and BMI\n",
    "nullity = df.age.isnull() + df.bmi.isnull()\n",
    "\n",
    "# Create a scatter plot of Skin Fold and BMI \n",
    "diabetes_dummy.plot(x='age', y='bmi', kind='scatter', alpha=0.5, \n",
    "                    \n",
    "                    # Set color to nullity of BMI and Skin_Fold\n",
    "                    c=nullity, \n",
    "                    cmap='nipy_spectral'\n",
    "                   )\n",
    "\n",
    "plt.show()"
   ]
  },
  {
   "cell_type": "code",
   "execution_count": null,
   "metadata": {},
   "outputs": [],
   "source": [
    "# Print the number of missing values in bmi\n",
    "print(df['bmi'].isnull().sum())\n",
    "\n",
    "# Drop rows where 'Glucose' has a missing value\n",
    "df.dropna(subset=['bmi'], how='any', inplace=True)\n",
    "\n",
    "# Visualize the missingness of diabetes (df) after dropping missing values\n",
    "# Plot nullity matrix of df\n",
    "msno.matrix(\n",
    "    df=df,\n",
    "    filter=None,\n",
    "    n=0,\n",
    "    p=0,\n",
    "    sort=None,\n",
    "    figsize=(25, 10),\n",
    "    width_ratios=(15, 1),\n",
    "    color=(0,1,0),\n",
    "    fontsize=16,\n",
    "    labels=None,\n",
    "    sparkline=True,\n",
    "    inline=False,\n",
    "    freq=None,\n",
    "    ax=None,\n",
    ")\n",
    "\n",
    "plt.show()"
   ]
  },
  {
   "cell_type": "markdown",
   "metadata": {},
   "source": [
    "> Awesome! Do you see how the glucose column has no missing values now?"
   ]
  },
  {
   "cell_type": "markdown",
   "metadata": {},
   "source": [
    "\"\"\"\n",
    "\n",
    "Will you delete?\n",
    "\n",
    "Before deleting missing values completely, you must consider the factors for deletion. \n",
    "The simplest factor to consider is the size of the missing data. \n",
    "\n",
    "More complex reasons affecting missingness may require domain knowledge. \n",
    "\n",
    "i advise that you must identify the reason for missingness and then perform the appropriate deletion.\n",
    "\n",
    "1. use msno.matrix() and msno.heatmap() to visualize missingness and the correlation between variables with missing data. \n",
    "2. You must determine pattern in missingness. \n",
    "3. Lastly, if required proceed to pairwise deletion or listwise deletion depending on the type of missingness.\n",
    "\n",
    "\"\"\""
   ]
  },
  {
   "cell_type": "markdown",
   "metadata": {},
   "source": [
    "> How to decide all Missing Data (NaNs) in bmi feature, if we decide so "
   ]
  },
  {
   "cell_type": "code",
   "execution_count": null,
   "metadata": {},
   "outputs": [],
   "source": [
    "# Drop rows where 'bmi' has a missing value\n",
    "df.dropna(subset=[\"bmi\"], how='all', inplace=True)"
   ]
  }
 ],
 "metadata": {
  "kernelspec": {
   "display_name": "Python 3",
   "language": "python",
   "name": "python3"
  },
  "language_info": {
   "codemirror_mode": {
    "name": "ipython",
    "version": 3
   },
   "file_extension": ".py",
   "mimetype": "text/x-python",
   "name": "python",
   "nbconvert_exporter": "python",
   "pygments_lexer": "ipython3",
   "version": "3.6.5"
  }
 },
 "nbformat": 4,
 "nbformat_minor": 1
}
